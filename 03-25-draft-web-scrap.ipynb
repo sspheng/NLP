{
 "cells": [
  {
   "cell_type": "code",
   "execution_count": 2,
   "id": "4225c36f",
   "metadata": {},
   "outputs": [],
   "source": [
    "import requests as req\n",
    "\n",
    "\n",
    "web_page = req.get(\"www.usgov.com\")"
   ]
  },
  {
   "cell_type": "code",
   "execution_count": 3,
   "id": "9681051c",
   "metadata": {},
   "outputs": [],
   "source": [
    "\n",
    "\n",
    "import bs4"
   ]
  },
  {
   "cell_type": "markdown",
   "id": "58cf9ef7",
   "metadata": {},
   "source": [
    " <div class=\"usa-banner__content usa-accordion__content\" id=\"gov-banner\">\n",
    "      <div class=\"grid-row grid-gap-lg\">\n",
    "        <div class=\"usa-banner__guidance tablet:grid-col-6\">\n",
    "          <img class=\"usa-banner__icon usa-media-block__img\" src=\"/sites/all/themes/justice/images/icon-dot-gov.svg\" role=\"img\" alt=\"Dot gov\">\n",
    "          <div class=\"usa-media-block__body\">\n",
    "            <p>\n",
    "              <strong>Official websites use .gov</strong>\n",
    "              <br/>\n",
    "              A <strong>.gov</strong> website belongs to an official government organization in the United States.            </p>\n",
    "          </div>\n",
    "        </div>\n",
    "        <div class=\"usa-banner__guidance tablet:grid-col-6\">\n",
    "          <img class=\"usa-banner__icon usa-media-block__img\" src=\"/sites/all/themes/justice/images/icon-https.svg\" role=\"img\" alt=\"Https\">\n",
    "          <div class=\"usa-media-block__body\">\n",
    "            <p>\n",
    "              <strong>Secure .gov websites use HTTPS</strong>\n",
    "              <br/>\n",
    "              A <strong>lock</strong> (<span class=\"icon-lock\"><svg xmlns=\"http://www.w3.org/2000/svg\" width=\"52\" height=\"64\" viewBox=\"0 0 52 64\" class=\"usa-banner__lock-image\" role=\"img\" aria-labelledby=\"banner-lock-title banner-lock-description\"><title id=\"banner-lock-title\">Lock</title><desc id=\"banner-lock-description\">A locked padlock</desc><path fill=\"#000000\" fill-rule=\"evenodd\" d=\"M26 0c10.493 0 19 8.507 19 19v9h3a4 4 0 0 1 4 4v28a4 4 0 0 1-4 4H4a4 4 0 0 1-4-4V32a4 4 0 0 1 4-4h3v-9C7 8.507 15.507 0 26 0zm0 8c-5.979 0-10.843 4.77-10.996 10.712L15 19v9h22v-9c0-6.075-4.925-11-11-11z\"/></svg></span>) or <strong>https://</strong> means you&rsquo;ve safely connected to the .gov website. Share sensitive information only on official, secure websites.            </p>\n",
    "          </div>\n",
    "        </div>\n",
    "      </div>\n",
    "    </div>\n",
    "  </div>"
   ]
  },
  {
   "cell_type": "code",
   "execution_count": 5,
   "id": "a51d5d08",
   "metadata": {},
   "outputs": [],
   "source": [
    "from bs4 import BeautifulSoup\n",
    "\n",
    "soup = BeautifulSoup(\"\"\" <div class=\"usa-banner__content usa-accordion__content\" id=\"gov-banner\">\n",
    "      <div class=\"grid-row grid-gap-lg\">\n",
    "        <div class=\"usa-banner__guidance tablet:grid-col-6\">\n",
    "          <img class=\"usa-banner__icon usa-media-block__img\" src=\"/sites/all/themes/justice/images/icon-dot-gov.svg\" role=\"img\" alt=\"Dot gov\">\n",
    "          <div class=\"usa-media-block__body\">\n",
    "            <p>\n",
    "              <strong>Official websites use .gov</strong>\n",
    "              <br/>\n",
    "              A <strong>.gov</strong> website belongs to an official government organization in the United States.            </p>\n",
    "          </div>\n",
    "        </div>\n",
    "        <div class=\"usa-banner__guidance tablet:grid-col-6\">\n",
    "          <img class=\"usa-banner__icon usa-media-block__img\" src=\"/sites/all/themes/justice/images/icon-https.svg\" role=\"img\" alt=\"Https\">\n",
    "          <div class=\"usa-media-block__body\">\n",
    "            <p>\n",
    "              <strong>Secure .gov websites use HTTPS</strong>\n",
    "              <br/>\n",
    "              A <strong>lock</strong> (<span class=\"icon-lock\"><svg xmlns=\"http://www.w3.org/2000/svg\" width=\"52\" height=\"64\" viewBox=\"0 0 52 64\" class=\"usa-banner__lock-image\" role=\"img\" aria-labelledby=\"banner-lock-title banner-lock-description\"><title id=\"banner-lock-title\">Lock</title><desc id=\"banner-lock-description\">A locked padlock</desc><path fill=\"#000000\" fill-rule=\"evenodd\" d=\"M26 0c10.493 0 19 8.507 19 19v9h3a4 4 0 0 1 4 4v28a4 4 0 0 1-4 4H4a4 4 0 0 1-4-4V32a4 4 0 0 1 4-4h3v-9C7 8.507 15.507 0 26 0zm0 8c-5.979 0-10.843 4.77-10.996 10.712L15 19v9h22v-9c0-6.075-4.925-11-11-11z\"/></svg></span>) or <strong>https://</strong> means you&rsquo;ve safely connected to the .gov website. Share sensitive information only on official, secure websites.            </p>\n",
    "          </div>\n",
    "        </div>\n",
    "      </div>\n",
    "    </div>\n",
    "  </div>\"\"\")\n",
    "\n",
    "\n"
   ]
  },
  {
   "cell_type": "code",
   "execution_count": 6,
   "id": "c7001725",
   "metadata": {},
   "outputs": [
    {
     "name": "stdout",
     "output_type": "stream",
     "text": [
      "<html>\n",
      " <body>\n",
      "  <div class=\"usa-banner__content usa-accordion__content\" id=\"gov-banner\">\n",
      "   <div class=\"grid-row grid-gap-lg\">\n",
      "    <div class=\"usa-banner__guidance tablet:grid-col-6\">\n",
      "     <img alt=\"Dot gov\" class=\"usa-banner__icon usa-media-block__img\" role=\"img\" src=\"/sites/all/themes/justice/images/icon-dot-gov.svg\"/>\n",
      "     <div class=\"usa-media-block__body\">\n",
      "      <p>\n",
      "       <strong>\n",
      "        Official websites use .gov\n",
      "       </strong>\n",
      "       <br/>\n",
      "       A\n",
      "       <strong>\n",
      "        .gov\n",
      "       </strong>\n",
      "       website belongs to an official government organization in the United States.\n",
      "      </p>\n",
      "     </div>\n",
      "    </div>\n",
      "    <div class=\"usa-banner__guidance tablet:grid-col-6\">\n",
      "     <img alt=\"Https\" class=\"usa-banner__icon usa-media-block__img\" role=\"img\" src=\"/sites/all/themes/justice/images/icon-https.svg\"/>\n",
      "     <div class=\"usa-media-block__body\">\n",
      "      <p>\n",
      "       <strong>\n",
      "        Secure .gov websites use HTTPS\n",
      "       </strong>\n",
      "       <br/>\n",
      "       A\n",
      "       <strong>\n",
      "        lock\n",
      "       </strong>\n",
      "       (\n",
      "       <span class=\"icon-lock\">\n",
      "        <svg aria-labelledby=\"banner-lock-title banner-lock-description\" class=\"usa-banner__lock-image\" height=\"64\" role=\"img\" viewbox=\"0 0 52 64\" width=\"52\" xmlns=\"http://www.w3.org/2000/svg\">\n",
      "         <title id=\"banner-lock-title\">\n",
      "          Lock\n",
      "         </title>\n",
      "         <desc id=\"banner-lock-description\">\n",
      "          A locked padlock\n",
      "         </desc>\n",
      "         <path d=\"M26 0c10.493 0 19 8.507 19 19v9h3a4 4 0 0 1 4 4v28a4 4 0 0 1-4 4H4a4 4 0 0 1-4-4V32a4 4 0 0 1 4-4h3v-9C7 8.507 15.507 0 26 0zm0 8c-5.979 0-10.843 4.77-10.996 10.712L15 19v9h22v-9c0-6.075-4.925-11-11-11z\" fill=\"#000000\" fill-rule=\"evenodd\">\n",
      "         </path>\n",
      "        </svg>\n",
      "       </span>\n",
      "       ) or\n",
      "       <strong>\n",
      "        https://\n",
      "       </strong>\n",
      "       means you’ve safely connected to the .gov website. Share sensitive information only on official, secure websites.\n",
      "      </p>\n",
      "     </div>\n",
      "    </div>\n",
      "   </div>\n",
      "  </div>\n",
      " </body>\n",
      "</html>\n"
     ]
    }
   ],
   "source": [
    "print(soup.prettify())"
   ]
  }
 ],
 "metadata": {
  "kernelspec": {
   "display_name": "Python 3 (ipykernel)",
   "language": "python",
   "name": "python3"
  },
  "language_info": {
   "codemirror_mode": {
    "name": "ipython",
    "version": 3
   },
   "file_extension": ".py",
   "mimetype": "text/x-python",
   "name": "python",
   "nbconvert_exporter": "python",
   "pygments_lexer": "ipython3",
   "version": "3.9.7"
  }
 },
 "nbformat": 4,
 "nbformat_minor": 5
}
