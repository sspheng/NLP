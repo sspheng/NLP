{
  "cells": [
    {
      "cell_type": "markdown",
      "id": "d9710702",
      "metadata": {
        "id": "d9710702"
      },
      "source": [
        "### NLP\n",
        "\n",
        "### Word Embedding using CBOW"
      ]
    },
    {
      "cell_type": "code",
      "execution_count": null,
      "id": "3af23200",
      "metadata": {
        "id": "3af23200"
      },
      "outputs": [],
      "source": [
        "#Import required libraries\n",
        "\n",
        "import nltk\n",
        "\n",
        "from nltk.corpus import stopwords\n",
        "\n",
        "import re"
      ]
    },
    {
      "cell_type": "code",
      "execution_count": null,
      "id": "6a1e7206",
      "metadata": {
        "id": "6a1e7206"
      },
      "outputs": [],
      "source": [
        "\n",
        "paragraph = \"\"\"I have three visions for India. In 3000 years of our history, people from all over\n",
        "               the world have come and invaded us, captured our lands, conquered our minds.\n",
        "               From Alexander onwards, the Greeks, the Turks, the Moguls, the Portuguese, the British,\n",
        "               the French, the Dutch, all of them came and looted us, took over what was ours.\n",
        "               Yet we have not done this to any other nation. We have not conquered anyone.\n",
        "               We have not grabbed their land, their culture,\n",
        "               their history and tried to enforce our way of life on them.\n",
        "               Why? Because we respect the freedom of others.That is why my\n",
        "               first vision is that of freedom. I believe that India got its first vision of\n",
        "               this in 1857, when we started the War of Independence. It is this freedom that\n",
        "               we must protect and nurture and build on. If we are not free, no one will respect us.\n",
        "               My second vision for India’s development. For fifty years we have been a developing nation.\n",
        "               It is time we see ourselves as a developed nation. We are among the top 5 nations of the world\n",
        "               in terms of GDP. We have a 10 percent growth rate in most areas. Our poverty levels are falling.\n",
        "               Our achievements are being globally recognised today. Yet we lack the self-confidence to\n",
        "               see ourselves as a developed nation, self-reliant and self-assured. Isn’t this incorrect?\n",
        "               I have a third vision. India must stand up to the world. Because I believe that unless India\n",
        "               stands up to the world, no one will respect us. Only strength respects strength. We must be\n",
        "               strong not only as a military power but also as an economic power. Both must go hand-in-hand.\n",
        "               My good fortune was to have worked with three great minds. Dr. Vikram Sarabhai of the Dept. of\n",
        "               space, Professor Satish Dhawan, who succeeded him and Dr. Brahm Prakash, father of nuclear material.\n",
        "               I was lucky to have worked with all three of them closely and consider this the great opportunity of my life.\n",
        "               I see four milestones in my career\"\"\"\n",
        "\n",
        "\n"
      ]
    },
    {
      "cell_type": "code",
      "execution_count": null,
      "id": "f579cbec",
      "metadata": {
        "id": "f579cbec",
        "outputId": "f96a681e-e29d-4518-8895-29ba41864f6b"
      },
      "outputs": [
        {
          "data": {
            "text/plain": [
              "'I have three visions for India. In 3000 years of our history, people from all over \\n               the world have come and invaded us, captured our lands, conquered our minds. \\n               From Alexander onwards, the Greeks, the Turks, the Moguls, the Portuguese, the British,\\n               the French, the Dutch, all of them came and looted us, took over what was ours. \\n               Yet we have not done this to any other nation. We have not conquered anyone. \\n               We have not grabbed their land, their culture, \\n               their history and tried to enforce our way of life on them. \\n               Why? Because we respect the freedom of others.That is why my \\n               first vision is that of freedom. I believe that India got its first vision of \\n               this in 1857, when we started the War of Independence. It is this freedom that\\n               we must protect and nurture and build on. If we are not free, no one will respect us.\\n               My second vision for India’s development. For fifty years we have been a developing nation.\\n               It is time we see ourselves as a developed nation. We are among the top 5 nations of the world\\n               in terms of GDP. We have a 10 percent growth rate in most areas. Our poverty levels are falling.\\n               Our achievements are being globally recognised today. Yet we lack the self-confidence to\\n               see ourselves as a developed nation, self-reliant and self-assured. Isn’t this incorrect?\\n               I have a third vision. India must stand up to the world. Because I believe that unless India \\n               stands up to the world, no one will respect us. Only strength respects strength. We must be \\n               strong not only as a military power but also as an economic power. Both must go hand-in-hand. \\n               My good fortune was to have worked with three great minds. Dr. Vikram Sarabhai of the Dept. of \\n               space, Professor Satish Dhawan, who succeeded him and Dr. Brahm Prakash, father of nuclear material.\\n               I was lucky to have worked with all three of them closely and consider this the great opportunity of my life. \\n               I see four milestones in my career'"
            ]
          },
          "execution_count": 3,
          "metadata": {},
          "output_type": "execute_result"
        }
      ],
      "source": [
        "#Import Paragraph that consist a part of speech\n",
        "paragraph"
      ]
    },
    {
      "cell_type": "code",
      "execution_count": null,
      "id": "8ec20ef5",
      "metadata": {
        "id": "8ec20ef5",
        "outputId": "738b1a33-e332-49d4-85d1-94953b1d4557"
      },
      "outputs": [
        {
          "data": {
            "text/plain": [
              "['I have three visions for India.',\n",
              " 'In 3000 years of our history, people from all over \\n               the world have come and invaded us, captured our lands, conquered our minds.',\n",
              " 'From Alexander onwards, the Greeks, the Turks, the Moguls, the Portuguese, the British,\\n               the French, the Dutch, all of them came and looted us, took over what was ours.',\n",
              " 'Yet we have not done this to any other nation.',\n",
              " 'We have not conquered anyone.',\n",
              " 'We have not grabbed their land, their culture, \\n               their history and tried to enforce our way of life on them.',\n",
              " 'Why?',\n",
              " 'Because we respect the freedom of others.That is why my \\n               first vision is that of freedom.',\n",
              " 'I believe that India got its first vision of \\n               this in 1857, when we started the War of Independence.',\n",
              " 'It is this freedom that\\n               we must protect and nurture and build on.',\n",
              " 'If we are not free, no one will respect us.',\n",
              " 'My second vision for India’s development.',\n",
              " 'For fifty years we have been a developing nation.',\n",
              " 'It is time we see ourselves as a developed nation.',\n",
              " 'We are among the top 5 nations of the world\\n               in terms of GDP.',\n",
              " 'We have a 10 percent growth rate in most areas.',\n",
              " 'Our poverty levels are falling.',\n",
              " 'Our achievements are being globally recognised today.',\n",
              " 'Yet we lack the self-confidence to\\n               see ourselves as a developed nation, self-reliant and self-assured.',\n",
              " 'Isn’t this incorrect?',\n",
              " 'I have a third vision.',\n",
              " 'India must stand up to the world.',\n",
              " 'Because I believe that unless India \\n               stands up to the world, no one will respect us.',\n",
              " 'Only strength respects strength.',\n",
              " 'We must be \\n               strong not only as a military power but also as an economic power.',\n",
              " 'Both must go hand-in-hand.',\n",
              " 'My good fortune was to have worked with three great minds.',\n",
              " 'Dr. Vikram Sarabhai of the Dept.',\n",
              " 'of \\n               space, Professor Satish Dhawan, who succeeded him and Dr. Brahm Prakash, father of nuclear material.',\n",
              " 'I was lucky to have worked with all three of them closely and consider this the great opportunity of my life.',\n",
              " 'I see four milestones in my career']"
            ]
          },
          "execution_count": 6,
          "metadata": {},
          "output_type": "execute_result"
        }
      ],
      "source": [
        "#Cleaning data by tokenizing\n",
        "sentences =  nltk.sent_tokenize(paragraph)\n",
        "sentences"
      ]
    },
    {
      "cell_type": "code",
      "execution_count": null,
      "id": "43f87290",
      "metadata": {
        "id": "43f87290"
      },
      "outputs": [],
      "source": [
        "#Import Gensim package\n",
        "import gensim\n",
        "#pip install gensim"
      ]
    },
    {
      "cell_type": "code",
      "execution_count": null,
      "id": "ba5a09de",
      "metadata": {
        "id": "ba5a09de"
      },
      "outputs": [],
      "source": [
        "#These packages will take care pre-processing itself ie remove stop word , stemming, punctuation ...but not recommend to use it we will clean data manually\n",
        "\n",
        "#import gensim.utils\n",
        "#gensim.utils.simple_preprocess(paragraph)"
      ]
    },
    {
      "cell_type": "code",
      "execution_count": null,
      "id": "f4107a90",
      "metadata": {
        "id": "f4107a90"
      },
      "outputs": [],
      "source": [
        "# Break paragraph into sentences\n",
        "text = re.sub(r'\\[[0-9]*\\]',' ',paragraph)\n",
        "text = re.sub(r'\\s+',' ',text)\n",
        "text = text.lower()\n",
        "text = re.sub(r'\\d',' ',text)\n",
        "text = re.sub(r'\\s+',' ',text)"
      ]
    },
    {
      "cell_type": "code",
      "execution_count": null,
      "id": "b3684670",
      "metadata": {
        "id": "b3684670",
        "outputId": "d585b512-c438-4ea1-8e44-e7c13560f76b"
      },
      "outputs": [
        {
          "data": {
            "text/plain": [
              "['i have three visions for india.',\n",
              " 'in years of our history, people from all over the world have come and invaded us, captured our lands, conquered our minds.',\n",
              " 'from alexander onwards, the greeks, the turks, the moguls, the portuguese, the british, the french, the dutch, all of them came and looted us, took over what was ours.',\n",
              " 'yet we have not done this to any other nation.',\n",
              " 'we have not conquered anyone.',\n",
              " 'we have not grabbed their land, their culture, their history and tried to enforce our way of life on them.',\n",
              " 'why?',\n",
              " 'because we respect the freedom of others.that is why my first vision is that of freedom.',\n",
              " 'i believe that india got its first vision of this in , when we started the war of independence.',\n",
              " 'it is this freedom that we must protect and nurture and build on.',\n",
              " 'if we are not free, no one will respect us.',\n",
              " 'my second vision for india’s development.',\n",
              " 'for fifty years we have been a developing nation.',\n",
              " 'it is time we see ourselves as a developed nation.',\n",
              " 'we are among the top nations of the world in terms of gdp.',\n",
              " 'we have a percent growth rate in most areas.',\n",
              " 'our poverty levels are falling.',\n",
              " 'our achievements are being globally recognised today.',\n",
              " 'yet we lack the self-confidence to see ourselves as a developed nation, self-reliant and self-assured.',\n",
              " 'isn’t this incorrect?',\n",
              " 'i have a third vision.',\n",
              " 'india must stand up to the world.',\n",
              " 'because i believe that unless india stands up to the world, no one will respect us.',\n",
              " 'only strength respects strength.',\n",
              " 'we must be strong not only as a military power but also as an economic power.',\n",
              " 'both must go hand-in-hand.',\n",
              " 'my good fortune was to have worked with three great minds.',\n",
              " 'dr. vikram sarabhai of the dept.',\n",
              " 'of space, professor satish dhawan, who succeeded him and dr. brahm prakash, father of nuclear material.',\n",
              " 'i was lucky to have worked with all three of them closely and consider this the great opportunity of my life.',\n",
              " 'i see four milestones in my career']"
            ]
          },
          "execution_count": 11,
          "metadata": {},
          "output_type": "execute_result"
        }
      ],
      "source": [
        "# Sentence tokenization\n",
        "sentences = nltk.sent_tokenize(text)\n",
        "sentences"
      ]
    },
    {
      "cell_type": "code",
      "execution_count": null,
      "id": "e8493615",
      "metadata": {
        "id": "e8493615",
        "outputId": "dc3962f7-f2ed-4bd6-ac64-4ad96f693ffa"
      },
      "outputs": [
        {
          "data": {
            "text/plain": [
              "31"
            ]
          },
          "execution_count": 12,
          "metadata": {},
          "output_type": "execute_result"
        }
      ],
      "source": [
        "len(sentences)"
      ]
    },
    {
      "cell_type": "code",
      "execution_count": null,
      "id": "09ea9636",
      "metadata": {
        "id": "09ea9636",
        "outputId": "68023d04-d362-4a64-d9a0-f3b7690e4e82"
      },
      "outputs": [
        {
          "data": {
            "text/plain": [
              "[['i', 'have', 'three', 'visions', 'for', 'india', '.'],\n",
              " ['in',\n",
              "  'years',\n",
              "  'of',\n",
              "  'our',\n",
              "  'history',\n",
              "  ',',\n",
              "  'people',\n",
              "  'from',\n",
              "  'all',\n",
              "  'over',\n",
              "  'the',\n",
              "  'world',\n",
              "  'have',\n",
              "  'come',\n",
              "  'and',\n",
              "  'invaded',\n",
              "  'us',\n",
              "  ',',\n",
              "  'captured',\n",
              "  'our',\n",
              "  'lands',\n",
              "  ',',\n",
              "  'conquered',\n",
              "  'our',\n",
              "  'minds',\n",
              "  '.'],\n",
              " ['from',\n",
              "  'alexander',\n",
              "  'onwards',\n",
              "  ',',\n",
              "  'the',\n",
              "  'greeks',\n",
              "  ',',\n",
              "  'the',\n",
              "  'turks',\n",
              "  ',',\n",
              "  'the',\n",
              "  'moguls',\n",
              "  ',',\n",
              "  'the',\n",
              "  'portuguese',\n",
              "  ',',\n",
              "  'the',\n",
              "  'british',\n",
              "  ',',\n",
              "  'the',\n",
              "  'french',\n",
              "  ',',\n",
              "  'the',\n",
              "  'dutch',\n",
              "  ',',\n",
              "  'all',\n",
              "  'of',\n",
              "  'them',\n",
              "  'came',\n",
              "  'and',\n",
              "  'looted',\n",
              "  'us',\n",
              "  ',',\n",
              "  'took',\n",
              "  'over',\n",
              "  'what',\n",
              "  'was',\n",
              "  'ours',\n",
              "  '.'],\n",
              " ['yet',\n",
              "  'we',\n",
              "  'have',\n",
              "  'not',\n",
              "  'done',\n",
              "  'this',\n",
              "  'to',\n",
              "  'any',\n",
              "  'other',\n",
              "  'nation',\n",
              "  '.'],\n",
              " ['we', 'have', 'not', 'conquered', 'anyone', '.'],\n",
              " ['we',\n",
              "  'have',\n",
              "  'not',\n",
              "  'grabbed',\n",
              "  'their',\n",
              "  'land',\n",
              "  ',',\n",
              "  'their',\n",
              "  'culture',\n",
              "  ',',\n",
              "  'their',\n",
              "  'history',\n",
              "  'and',\n",
              "  'tried',\n",
              "  'to',\n",
              "  'enforce',\n",
              "  'our',\n",
              "  'way',\n",
              "  'of',\n",
              "  'life',\n",
              "  'on',\n",
              "  'them',\n",
              "  '.'],\n",
              " ['why', '?'],\n",
              " ['because',\n",
              "  'we',\n",
              "  'respect',\n",
              "  'the',\n",
              "  'freedom',\n",
              "  'of',\n",
              "  'others.that',\n",
              "  'is',\n",
              "  'why',\n",
              "  'my',\n",
              "  'first',\n",
              "  'vision',\n",
              "  'is',\n",
              "  'that',\n",
              "  'of',\n",
              "  'freedom',\n",
              "  '.'],\n",
              " ['i',\n",
              "  'believe',\n",
              "  'that',\n",
              "  'india',\n",
              "  'got',\n",
              "  'its',\n",
              "  'first',\n",
              "  'vision',\n",
              "  'of',\n",
              "  'this',\n",
              "  'in',\n",
              "  ',',\n",
              "  'when',\n",
              "  'we',\n",
              "  'started',\n",
              "  'the',\n",
              "  'war',\n",
              "  'of',\n",
              "  'independence',\n",
              "  '.'],\n",
              " ['it',\n",
              "  'is',\n",
              "  'this',\n",
              "  'freedom',\n",
              "  'that',\n",
              "  'we',\n",
              "  'must',\n",
              "  'protect',\n",
              "  'and',\n",
              "  'nurture',\n",
              "  'and',\n",
              "  'build',\n",
              "  'on',\n",
              "  '.'],\n",
              " ['if',\n",
              "  'we',\n",
              "  'are',\n",
              "  'not',\n",
              "  'free',\n",
              "  ',',\n",
              "  'no',\n",
              "  'one',\n",
              "  'will',\n",
              "  'respect',\n",
              "  'us',\n",
              "  '.'],\n",
              " ['my', 'second', 'vision', 'for', 'india', '’', 's', 'development', '.'],\n",
              " ['for',\n",
              "  'fifty',\n",
              "  'years',\n",
              "  'we',\n",
              "  'have',\n",
              "  'been',\n",
              "  'a',\n",
              "  'developing',\n",
              "  'nation',\n",
              "  '.'],\n",
              " ['it',\n",
              "  'is',\n",
              "  'time',\n",
              "  'we',\n",
              "  'see',\n",
              "  'ourselves',\n",
              "  'as',\n",
              "  'a',\n",
              "  'developed',\n",
              "  'nation',\n",
              "  '.'],\n",
              " ['we',\n",
              "  'are',\n",
              "  'among',\n",
              "  'the',\n",
              "  'top',\n",
              "  'nations',\n",
              "  'of',\n",
              "  'the',\n",
              "  'world',\n",
              "  'in',\n",
              "  'terms',\n",
              "  'of',\n",
              "  'gdp',\n",
              "  '.'],\n",
              " ['we', 'have', 'a', 'percent', 'growth', 'rate', 'in', 'most', 'areas', '.'],\n",
              " ['our', 'poverty', 'levels', 'are', 'falling', '.'],\n",
              " ['our',\n",
              "  'achievements',\n",
              "  'are',\n",
              "  'being',\n",
              "  'globally',\n",
              "  'recognised',\n",
              "  'today',\n",
              "  '.'],\n",
              " ['yet',\n",
              "  'we',\n",
              "  'lack',\n",
              "  'the',\n",
              "  'self-confidence',\n",
              "  'to',\n",
              "  'see',\n",
              "  'ourselves',\n",
              "  'as',\n",
              "  'a',\n",
              "  'developed',\n",
              "  'nation',\n",
              "  ',',\n",
              "  'self-reliant',\n",
              "  'and',\n",
              "  'self-assured',\n",
              "  '.'],\n",
              " ['isn', '’', 't', 'this', 'incorrect', '?'],\n",
              " ['i', 'have', 'a', 'third', 'vision', '.'],\n",
              " ['india', 'must', 'stand', 'up', 'to', 'the', 'world', '.'],\n",
              " ['because',\n",
              "  'i',\n",
              "  'believe',\n",
              "  'that',\n",
              "  'unless',\n",
              "  'india',\n",
              "  'stands',\n",
              "  'up',\n",
              "  'to',\n",
              "  'the',\n",
              "  'world',\n",
              "  ',',\n",
              "  'no',\n",
              "  'one',\n",
              "  'will',\n",
              "  'respect',\n",
              "  'us',\n",
              "  '.'],\n",
              " ['only', 'strength', 'respects', 'strength', '.'],\n",
              " ['we',\n",
              "  'must',\n",
              "  'be',\n",
              "  'strong',\n",
              "  'not',\n",
              "  'only',\n",
              "  'as',\n",
              "  'a',\n",
              "  'military',\n",
              "  'power',\n",
              "  'but',\n",
              "  'also',\n",
              "  'as',\n",
              "  'an',\n",
              "  'economic',\n",
              "  'power',\n",
              "  '.'],\n",
              " ['both', 'must', 'go', 'hand-in-hand', '.'],\n",
              " ['my',\n",
              "  'good',\n",
              "  'fortune',\n",
              "  'was',\n",
              "  'to',\n",
              "  'have',\n",
              "  'worked',\n",
              "  'with',\n",
              "  'three',\n",
              "  'great',\n",
              "  'minds',\n",
              "  '.'],\n",
              " ['dr.', 'vikram', 'sarabhai', 'of', 'the', 'dept', '.'],\n",
              " ['of',\n",
              "  'space',\n",
              "  ',',\n",
              "  'professor',\n",
              "  'satish',\n",
              "  'dhawan',\n",
              "  ',',\n",
              "  'who',\n",
              "  'succeeded',\n",
              "  'him',\n",
              "  'and',\n",
              "  'dr.',\n",
              "  'brahm',\n",
              "  'prakash',\n",
              "  ',',\n",
              "  'father',\n",
              "  'of',\n",
              "  'nuclear',\n",
              "  'material',\n",
              "  '.'],\n",
              " ['i',\n",
              "  'was',\n",
              "  'lucky',\n",
              "  'to',\n",
              "  'have',\n",
              "  'worked',\n",
              "  'with',\n",
              "  'all',\n",
              "  'three',\n",
              "  'of',\n",
              "  'them',\n",
              "  'closely',\n",
              "  'and',\n",
              "  'consider',\n",
              "  'this',\n",
              "  'the',\n",
              "  'great',\n",
              "  'opportunity',\n",
              "  'of',\n",
              "  'my',\n",
              "  'life',\n",
              "  '.'],\n",
              " ['i', 'see', 'four', 'milestones', 'in', 'my', 'career']]"
            ]
          },
          "execution_count": 13,
          "metadata": {},
          "output_type": "execute_result"
        }
      ],
      "source": [
        "#brek sentences into words\n",
        "sentences = [nltk.word_tokenize(sentence) for sentence in sentences]\n",
        "sentences"
      ]
    },
    {
      "cell_type": "code",
      "execution_count": null,
      "id": "a554e881",
      "metadata": {
        "id": "a554e881"
      },
      "outputs": [],
      "source": [
        "#Removing stop words and special chararacters\n",
        "for i in range(len(sentences)):\n",
        "    sentences[i] = [word for word in sentences[i] if word not in stopwords.words('english')]"
      ]
    },
    {
      "cell_type": "code",
      "execution_count": null,
      "id": "9977c642",
      "metadata": {
        "id": "9977c642"
      },
      "outputs": [],
      "source": [
        "import string"
      ]
    },
    {
      "cell_type": "code",
      "execution_count": null,
      "id": "fc064cf9",
      "metadata": {
        "id": "fc064cf9",
        "outputId": "e1ec5739-c5df-4419-dff7-f27c72deba7a"
      },
      "outputs": [
        {
          "data": {
            "text/plain": [
              "'!\"#$%&\\'()*+,-./:;<=>?@[\\\\]^_`{|}~'"
            ]
          },
          "execution_count": 16,
          "metadata": {},
          "output_type": "execute_result"
        }
      ],
      "source": [
        "string.punctuation"
      ]
    },
    {
      "cell_type": "code",
      "execution_count": null,
      "id": "03f69fdc",
      "metadata": {
        "id": "03f69fdc"
      },
      "outputs": [],
      "source": [
        "#df.message.map(lambda x: re.sub(\"[!#$%&\\'()*+,-./:;<=>?@[\\\\]^_`{|}~]\",\"\",x))"
      ]
    },
    {
      "cell_type": "code",
      "execution_count": null,
      "id": "21dc5773",
      "metadata": {
        "id": "21dc5773"
      },
      "outputs": [],
      "source": [
        "for i in range(len(sentences)):\n",
        "    sentences[i] = [word for word in sentences[i] if word not in (\"[#$%&\\'()*+,-./:;<=>?@[\\\\]^_`{|}~]\")]"
      ]
    },
    {
      "cell_type": "code",
      "execution_count": null,
      "id": "9dbdfe1c",
      "metadata": {
        "id": "9dbdfe1c",
        "outputId": "ed741f84-6c4d-4070-e6b7-4da31456391f"
      },
      "outputs": [
        {
          "data": {
            "text/plain": [
              "['three', 'visions', 'india']"
            ]
          },
          "execution_count": 19,
          "metadata": {},
          "output_type": "execute_result"
        }
      ],
      "source": [
        "sentences[0]"
      ]
    },
    {
      "cell_type": "code",
      "execution_count": null,
      "id": "26501c85",
      "metadata": {
        "id": "26501c85",
        "outputId": "ca82d679-719c-432f-d19a-d1673ffa780b"
      },
      "outputs": [
        {
          "data": {
            "text/plain": [
              "['years',\n",
              " 'history',\n",
              " 'people',\n",
              " 'world',\n",
              " 'come',\n",
              " 'invaded',\n",
              " 'us',\n",
              " 'captured',\n",
              " 'lands',\n",
              " 'conquered',\n",
              " 'minds']"
            ]
          },
          "execution_count": 20,
          "metadata": {},
          "output_type": "execute_result"
        }
      ],
      "source": [
        "sentences[1]"
      ]
    },
    {
      "cell_type": "markdown",
      "id": "378ffaa6",
      "metadata": {
        "id": "378ffaa6"
      },
      "source": [
        "# CBOW"
      ]
    },
    {
      "cell_type": "markdown",
      "id": "99b8225c",
      "metadata": {
        "id": "99b8225c"
      },
      "source": [
        "![image.png](attachment:image.png)"
      ]
    },
    {
      "cell_type": "code",
      "execution_count": null,
      "id": "6714ec25",
      "metadata": {
        "id": "6714ec25"
      },
      "outputs": [],
      "source": [
        "from gensim.models import Word2Vec"
      ]
    },
    {
      "cell_type": "code",
      "execution_count": null,
      "id": "511db249",
      "metadata": {
        "id": "511db249"
      },
      "outputs": [],
      "source": [
        "??Word2Vec"
      ]
    },
    {
      "cell_type": "code",
      "execution_count": null,
      "id": "8f195f90",
      "metadata": {
        "id": "8f195f90",
        "outputId": "114f7ebe-c900-4990-9e81-7c4c175e1850"
      },
      "outputs": [
        {
          "data": {
            "text/plain": [
              "<gensim.models.word2vec.Word2Vec at 0x1827b986d90>"
            ]
          },
          "execution_count": 113,
          "metadata": {},
          "output_type": "execute_result"
        }
      ],
      "source": [
        "# Training the Word2Vec model\n",
        "# Modeling\n",
        "model = Word2Vec(sentences,\n",
        "                 vector_size=5,#Vocabuary size\n",
        "                 window=3, #3 words in one time to take and to predict ie to predict middle word take 3w from left and 3w from right\n",
        "                 min_count=2, #meaning that at least in the sentence has 3 words, so we chose min-count 2 at lease to run model\n",
        "                 sg=0, #meaning that skip gram is not use but cbow\n",
        "                 workers=4)  #4 CPU to run faster, parallelism of the model,\n",
        "model"
      ]
    },
    {
      "cell_type": "code",
      "execution_count": null,
      "id": "ddc19d3c",
      "metadata": {
        "id": "ddc19d3c"
      },
      "outputs": [],
      "source": [
        "model.build_vocab(sentences)"
      ]
    },
    {
      "cell_type": "code",
      "execution_count": null,
      "id": "1b296463",
      "metadata": {
        "id": "1b296463",
        "outputId": "32b1cedd-ef9b-480c-830c-042633199114"
      },
      "outputs": [
        {
          "data": {
            "text/plain": [
              "defaultdict(int, {})"
            ]
          },
          "execution_count": 25,
          "metadata": {},
          "output_type": "execute_result"
        }
      ],
      "source": [
        "model.raw_vocab"
      ]
    },
    {
      "cell_type": "code",
      "execution_count": null,
      "id": "1197498d",
      "metadata": {
        "id": "1197498d",
        "outputId": "213fdb57-7a40-4bbf-8839-adc4a79ddde8"
      },
      "outputs": [
        {
          "data": {
            "text/plain": [
              "31"
            ]
          },
          "execution_count": 115,
          "metadata": {},
          "output_type": "execute_result"
        }
      ],
      "source": [
        "# number of sentences we have to run the model\n",
        "model.corpus_count"
      ]
    },
    {
      "cell_type": "code",
      "execution_count": null,
      "id": "5a668aae",
      "metadata": {
        "scrolled": true,
        "id": "5a668aae",
        "outputId": "1b090b93-0ed4-4ae2-8813-f498826cbd3a"
      },
      "outputs": [
        {
          "data": {
            "text/plain": [
              "(1283, 16300)"
            ]
          },
          "execution_count": 116,
          "metadata": {},
          "output_type": "execute_result"
        }
      ],
      "source": [
        "model.train(sentences, total_examples=31, epochs=100)"
      ]
    },
    {
      "cell_type": "code",
      "execution_count": null,
      "id": "710046fe",
      "metadata": {
        "id": "710046fe"
      },
      "outputs": [],
      "source": [
        "??model.train"
      ]
    },
    {
      "cell_type": "code",
      "execution_count": null,
      "id": "08d3aa57",
      "metadata": {
        "id": "08d3aa57",
        "outputId": "556e24f8-0d88-45a6-d80f-570c1f91aa24"
      },
      "outputs": [
        {
          "data": {
            "text/plain": [
              "{'india': 0,\n",
              " 'must': 1,\n",
              " 'world': 2,\n",
              " 'us': 3,\n",
              " 'nation': 4,\n",
              " 'vision': 5,\n",
              " 'freedom': 6,\n",
              " 'respect': 7,\n",
              " 'three': 8,\n",
              " 'see': 9,\n",
              " 'one': 10,\n",
              " 'minds': 11,\n",
              " 'worked': 12,\n",
              " 'years': 13,\n",
              " 'history': 14,\n",
              " 'power': 15,\n",
              " 'strength': 16,\n",
              " 'conquered': 17,\n",
              " 'yet': 18,\n",
              " 'believe': 19,\n",
              " 'developed': 20,\n",
              " 'life': 21,\n",
              " 'great': 22,\n",
              " 'first': 23,\n",
              " '’': 24,\n",
              " 'dr.': 25}"
            ]
          },
          "execution_count": 117,
          "metadata": {},
          "output_type": "execute_result"
        }
      ],
      "source": [
        "\n",
        "model.wv.key_to_index\n"
      ]
    },
    {
      "cell_type": "code",
      "execution_count": null,
      "id": "81a57236",
      "metadata": {
        "id": "81a57236",
        "outputId": "cf7cce3d-5edd-41fb-ba60-78e14e294164"
      },
      "outputs": [
        {
          "data": {
            "text/plain": [
              "['india',\n",
              " 'must',\n",
              " 'world',\n",
              " 'us',\n",
              " 'nation',\n",
              " 'vision',\n",
              " 'freedom',\n",
              " 'respect',\n",
              " 'three',\n",
              " 'see',\n",
              " 'one',\n",
              " 'minds',\n",
              " 'worked',\n",
              " 'years',\n",
              " 'history',\n",
              " 'power',\n",
              " 'strength',\n",
              " 'conquered',\n",
              " 'yet',\n",
              " 'believe',\n",
              " 'developed',\n",
              " 'life',\n",
              " 'great',\n",
              " 'first',\n",
              " '’',\n",
              " 'dr.']"
            ]
          },
          "execution_count": 118,
          "metadata": {},
          "output_type": "execute_result"
        }
      ],
      "source": [
        "model.wv.index_to_key #key_to_index"
      ]
    },
    {
      "cell_type": "code",
      "execution_count": null,
      "id": "5d8e5280",
      "metadata": {
        "id": "5d8e5280",
        "outputId": "6fd33575-f01c-4522-caee-d19832160002"
      },
      "outputs": [
        {
          "data": {
            "text/plain": [
              "0.8695032596588135"
            ]
          },
          "execution_count": 132,
          "metadata": {},
          "output_type": "execute_result"
        }
      ],
      "source": [
        "model.wv.distance(\"india\",\"world\") #distant + similarity=1"
      ]
    },
    {
      "cell_type": "code",
      "execution_count": null,
      "id": "737d7422",
      "metadata": {
        "id": "737d7422",
        "outputId": "82ae0ff4-04c4-4221-c747-337c84cbea60"
      },
      "outputs": [
        {
          "data": {
            "text/plain": [
              "0.13049674"
            ]
          },
          "execution_count": 130,
          "metadata": {},
          "output_type": "execute_result"
        }
      ],
      "source": [
        "model.wv.similarity(0,2) #cosine similarity"
      ]
    },
    {
      "cell_type": "code",
      "execution_count": null,
      "id": "2e7d28bc",
      "metadata": {
        "id": "2e7d28bc",
        "outputId": "eb57baf9-54da-455b-8a40-eb1635ff7f31"
      },
      "outputs": [
        {
          "data": {
            "text/plain": [
              "{'india': 0,\n",
              " 'must': 1,\n",
              " 'world': 2,\n",
              " 'us': 3,\n",
              " 'nation': 4,\n",
              " 'vision': 5,\n",
              " 'freedom': 6,\n",
              " 'respect': 7,\n",
              " 'three': 8,\n",
              " 'see': 9,\n",
              " 'one': 10,\n",
              " 'minds': 11,\n",
              " 'worked': 12,\n",
              " 'years': 13,\n",
              " 'history': 14,\n",
              " 'power': 15,\n",
              " 'strength': 16,\n",
              " 'conquered': 17,\n",
              " 'yet': 18,\n",
              " 'believe': 19,\n",
              " 'developed': 20,\n",
              " 'life': 21,\n",
              " 'great': 22,\n",
              " 'first': 23,\n",
              " '’': 24,\n",
              " 'dr.': 25}"
            ]
          },
          "execution_count": 129,
          "metadata": {},
          "output_type": "execute_result"
        }
      ],
      "source": [
        "model.wv.key_to_index"
      ]
    },
    {
      "cell_type": "code",
      "execution_count": null,
      "id": "730d5685",
      "metadata": {
        "id": "730d5685",
        "outputId": "d6be838d-4598-4224-8aa9-5bd762a51f5d"
      },
      "outputs": [
        {
          "data": {
            "text/plain": [
              "array([-0.14687185,  0.13599907,  0.18289876, -0.10559811, -0.07245196],\n",
              "      dtype=float32)"
            ]
          },
          "execution_count": 31,
          "metadata": {},
          "output_type": "execute_result"
        }
      ],
      "source": [
        "# Finding Word Vectors\n",
        "vector = model.wv['india']\n",
        "vector"
      ]
    },
    {
      "cell_type": "code",
      "execution_count": null,
      "id": "67f8cd33",
      "metadata": {
        "id": "67f8cd33",
        "outputId": "14971021-6e7b-45d8-ea3f-5103636ce62e"
      },
      "outputs": [
        {
          "data": {
            "text/plain": [
              "array([-0.14687185,  0.13599907,  0.18289876, -0.10559811, -0.07245196],\n",
              "      dtype=float32)"
            ]
          },
          "execution_count": 32,
          "metadata": {},
          "output_type": "execute_result"
        }
      ],
      "source": [
        "model.wv['india']\n",
        "#100 by default\n",
        "#array([-0.14597696,  0.1361471 ,  0.18691991, -0.10910395, -0.07315315],"
      ]
    },
    {
      "cell_type": "code",
      "execution_count": null,
      "id": "44ef848d",
      "metadata": {
        "id": "44ef848d",
        "outputId": "c601b923-b447-4138-b16c-043958270338"
      },
      "outputs": [
        {
          "data": {
            "text/plain": [
              "[('strength', 0.8826280832290649),\n",
              " ('conquered', 0.8581135869026184),\n",
              " ('us', 0.8031535744667053),\n",
              " ('history', 0.6392011642456055),\n",
              " ('believe', 0.5142586827278137),\n",
              " ('worked', 0.45934736728668213),\n",
              " ('developed', 0.381183922290802),\n",
              " ('first', 0.3793971538543701),\n",
              " ('must', 0.37867239117622375),\n",
              " ('great', 0.26906463503837585)]"
            ]
          },
          "execution_count": 33,
          "metadata": {},
          "output_type": "execute_result"
        }
      ],
      "source": [
        "# Most similar words\n",
        "similar = model.wv.most_similar('india')\n",
        "similar"
      ]
    },
    {
      "cell_type": "code",
      "execution_count": null,
      "id": "9c44dbda",
      "metadata": {
        "id": "9c44dbda",
        "outputId": "bf9255ad-2dc0-4a83-c191-761d1aa82faa"
      },
      "outputs": [
        {
          "data": {
            "text/plain": [
              "0.8031535"
            ]
          },
          "execution_count": 35,
          "metadata": {},
          "output_type": "execute_result"
        }
      ],
      "source": [
        "model.wv.similarity('india',\"us\")\n",
        "#0.8031535\n",
        "#0.8131431"
      ]
    },
    {
      "cell_type": "markdown",
      "id": "81cd1579",
      "metadata": {
        "id": "81cd1579"
      },
      "source": [
        "![image.png](attachment:image.png)"
      ]
    },
    {
      "cell_type": "markdown",
      "id": "8d4d9eca",
      "metadata": {
        "id": "8d4d9eca"
      },
      "source": [
        "# SKIP GRAM"
      ]
    },
    {
      "cell_type": "markdown",
      "id": "783126e9",
      "metadata": {
        "id": "783126e9"
      },
      "source": [
        "We’ll do so by creating a “fake” task for the neural network to train. We won’t be interested in the inputs and outputs of this network, rather the goal is actually just to learn the weights of the hidden layer that are actually the “word vectors” that we’re trying to learn.\n",
        "\n"
      ]
    },
    {
      "cell_type": "markdown",
      "id": "80c5dd14",
      "metadata": {
        "id": "80c5dd14"
      },
      "source": [
        "#### CBOW: several times faster to train than the skip-gram, slightly better accuracy for the frequent words.\n",
        "\n",
        "\n",
        "#### Skip-gram: works well with a small amount of the training data, represents well even rare words or phrases.\n",
        "\n"
      ]
    },
    {
      "cell_type": "markdown",
      "id": "adc4c191",
      "metadata": {
        "id": "adc4c191"
      },
      "source": [
        "![image.png](attachment:image.png)"
      ]
    },
    {
      "cell_type": "markdown",
      "id": "613b40b4",
      "metadata": {
        "id": "613b40b4"
      },
      "source": [
        "![image.png](attachment:image.png)"
      ]
    },
    {
      "cell_type": "code",
      "execution_count": null,
      "id": "467cb7ed",
      "metadata": {
        "id": "467cb7ed",
        "outputId": "4df0badd-0511-4164-aead-d6ff913e52f0"
      },
      "outputs": [
        {
          "data": {
            "text/plain": [
              "<gensim.models.word2vec.Word2Vec at 0x18272825e20>"
            ]
          },
          "execution_count": 47,
          "metadata": {},
          "output_type": "execute_result"
        }
      ],
      "source": [
        "\n",
        "# Training the Word2Vec model - SKIP GRAM\n",
        "\n",
        "model2 = Word2Vec(sentences,\n",
        "                 vector_size=5,\n",
        "                 window=3,\n",
        "                 min_count=2,\n",
        "                 sg=1,#using skipgram\n",
        "                 workers=4)  #parallelism of the model\n",
        "model2"
      ]
    },
    {
      "cell_type": "code",
      "execution_count": null,
      "id": "94726783",
      "metadata": {
        "id": "94726783"
      },
      "outputs": [],
      "source": [
        "model2.build_vocab(sentences)"
      ]
    },
    {
      "cell_type": "code",
      "execution_count": null,
      "id": "85483d9b",
      "metadata": {
        "id": "85483d9b",
        "outputId": "9b254599-1ba3-4e94-dbc9-b985fa36bd23"
      },
      "outputs": [
        {
          "data": {
            "text/plain": [
              "defaultdict(int, {})"
            ]
          },
          "execution_count": 49,
          "metadata": {},
          "output_type": "execute_result"
        }
      ],
      "source": [
        "model2.raw_vocab"
      ]
    },
    {
      "cell_type": "code",
      "execution_count": null,
      "id": "3d79559a",
      "metadata": {
        "id": "3d79559a",
        "outputId": "5073f548-2430-49ad-be82-0b0552663525"
      },
      "outputs": [
        {
          "data": {
            "text/plain": [
              "31"
            ]
          },
          "execution_count": 50,
          "metadata": {},
          "output_type": "execute_result"
        }
      ],
      "source": [
        "model2.corpus_count"
      ]
    },
    {
      "cell_type": "code",
      "execution_count": null,
      "id": "15892055",
      "metadata": {
        "scrolled": false,
        "id": "15892055",
        "outputId": "6061a360-62de-4098-cdd3-3ff1d73fa58b"
      },
      "outputs": [
        {
          "data": {
            "text/plain": [
              "(1283, 16300)"
            ]
          },
          "execution_count": 51,
          "metadata": {},
          "output_type": "execute_result"
        }
      ],
      "source": [
        "model2.train(sentences, total_examples=31, epochs=100)"
      ]
    },
    {
      "cell_type": "code",
      "execution_count": null,
      "id": "6540f892",
      "metadata": {
        "id": "6540f892",
        "outputId": "1bca75bb-149c-4979-8919-ed67922582c8"
      },
      "outputs": [
        {
          "data": {
            "text/plain": [
              "{'india': 0,\n",
              " 'must': 1,\n",
              " 'world': 2,\n",
              " 'us': 3,\n",
              " 'nation': 4,\n",
              " 'vision': 5,\n",
              " 'freedom': 6,\n",
              " 'respect': 7,\n",
              " 'three': 8,\n",
              " 'see': 9,\n",
              " 'one': 10,\n",
              " 'minds': 11,\n",
              " 'worked': 12,\n",
              " 'years': 13,\n",
              " 'history': 14,\n",
              " 'power': 15,\n",
              " 'strength': 16,\n",
              " 'conquered': 17,\n",
              " 'yet': 18,\n",
              " 'believe': 19,\n",
              " 'developed': 20,\n",
              " 'life': 21,\n",
              " 'great': 22,\n",
              " 'first': 23,\n",
              " '’': 24,\n",
              " 'dr.': 25}"
            ]
          },
          "execution_count": 52,
          "metadata": {},
          "output_type": "execute_result"
        }
      ],
      "source": [
        "model2.wv.key_to_index\n"
      ]
    },
    {
      "cell_type": "code",
      "execution_count": null,
      "id": "170e98f6",
      "metadata": {
        "id": "170e98f6",
        "outputId": "9a9ffbca-1525-41e5-c8f2-1224e67676d5"
      },
      "outputs": [
        {
          "data": {
            "text/plain": [
              "['india',\n",
              " 'must',\n",
              " 'world',\n",
              " 'us',\n",
              " 'nation',\n",
              " 'vision',\n",
              " 'freedom',\n",
              " 'respect',\n",
              " 'three',\n",
              " 'see',\n",
              " 'one',\n",
              " 'minds',\n",
              " 'worked',\n",
              " 'years',\n",
              " 'history',\n",
              " 'power',\n",
              " 'strength',\n",
              " 'conquered',\n",
              " 'yet',\n",
              " 'believe',\n",
              " 'developed',\n",
              " 'life',\n",
              " 'great',\n",
              " 'first',\n",
              " '’',\n",
              " 'dr.']"
            ]
          },
          "execution_count": 94,
          "metadata": {},
          "output_type": "execute_result"
        }
      ],
      "source": [
        "model2.wv.index_to_key"
      ]
    },
    {
      "cell_type": "code",
      "execution_count": null,
      "id": "e8a37661",
      "metadata": {
        "id": "e8a37661",
        "outputId": "aec85565-31fe-422f-ed63-f907e2adcaf7"
      },
      "outputs": [
        {
          "data": {
            "text/plain": [
              "1.0"
            ]
          },
          "execution_count": 64,
          "metadata": {},
          "output_type": "execute_result"
        }
      ],
      "source": [
        "model2.wv.distance('india',\"us\") + model2.wv.similarity('india',\"us\")"
      ]
    },
    {
      "cell_type": "code",
      "execution_count": null,
      "id": "c11c20e1",
      "metadata": {
        "id": "c11c20e1"
      },
      "outputs": [],
      "source": [
        "#** Note: Similarity(a,b) = a.b/(||a||*||b||) Cosine similarity"
      ]
    },
    {
      "cell_type": "code",
      "execution_count": null,
      "id": "1155ce18",
      "metadata": {
        "id": "1155ce18",
        "outputId": "6ffd8f8d-f771-4303-d84a-90073ba43425"
      },
      "outputs": [
        {
          "data": {
            "text/plain": [
              "array([-0.14597696,  0.1361471 ,  0.18691991, -0.10910395, -0.07315315],\n",
              "      dtype=float32)"
            ]
          },
          "execution_count": 54,
          "metadata": {},
          "output_type": "execute_result"
        }
      ],
      "source": [
        "# Finding Word Vectors\n",
        "vector2 = model2.wv['india']\n",
        "vector2"
      ]
    },
    {
      "cell_type": "code",
      "execution_count": null,
      "id": "95c9caef",
      "metadata": {
        "id": "95c9caef",
        "outputId": "3195e737-4707-4a55-ad46-a17bc503cccc"
      },
      "outputs": [
        {
          "data": {
            "text/plain": [
              "[('strength', 0.8826166391372681),\n",
              " ('conquered', 0.8693702220916748),\n",
              " ('us', 0.8131430745124817),\n",
              " ('history', 0.6474770307540894),\n",
              " ('believe', 0.5234516263008118),\n",
              " ('worked', 0.46810805797576904),\n",
              " ('first', 0.3923243284225464),\n",
              " ('developed', 0.3833053410053253),\n",
              " ('must', 0.3771683871746063),\n",
              " ('great', 0.28269311785697937)]"
            ]
          },
          "execution_count": 55,
          "metadata": {},
          "output_type": "execute_result"
        }
      ],
      "source": [
        "# Most similar words\n",
        "similar2 = model2.wv.most_similar('india')\n",
        "similar2"
      ]
    },
    {
      "cell_type": "code",
      "execution_count": null,
      "id": "cc53de02",
      "metadata": {
        "id": "cc53de02",
        "outputId": "3b8b4dae-bd5a-47da-b632-3fcb368d5136"
      },
      "outputs": [
        {
          "data": {
            "text/plain": [
              "0.8131431"
            ]
          },
          "execution_count": 133,
          "metadata": {},
          "output_type": "execute_result"
        }
      ],
      "source": [
        "model2.wv.similarity('india',\"us\")"
      ]
    },
    {
      "cell_type": "markdown",
      "id": "1344703b",
      "metadata": {
        "id": "1344703b"
      },
      "source": [
        "from sklearn.metrics.pairwise import euclidean_distances\n",
        "\n",
        "# compute pairwise distance matrix\n",
        "distance_matrix = euclidean_distances(weights)\n",
        "print(distance_matrix.shape)\n"
      ]
    },
    {
      "cell_type": "markdown",
      "id": "caa017a1",
      "metadata": {
        "id": "caa017a1"
      },
      "source": [
        "\n",
        "# view contextually similar words\n",
        "similar_words = {search_term: [id2word[idx] for idx in distance_matrix[word2id[search_term]-1].argsort()[1:6]+1]\n",
        "                   for search_term in ['god', 'jesus', 'noah', 'egypt', 'john', 'gospel', 'moses','famine']}\n",
        "\n",
        "similar_words"
      ]
    },
    {
      "cell_type": "markdown",
      "id": "d505735b",
      "metadata": {
        "id": "d505735b"
      },
      "source": [
        "#### Negative Sampling — a technique to improve the learning without compromising the quality of embedding\n",
        "\n",
        "#### Another word embedding called GloVe that is a hybrid of count based and window based model."
      ]
    },
    {
      "cell_type": "markdown",
      "id": "cf8c4e49",
      "metadata": {
        "id": "cf8c4e49"
      },
      "source": [
        "### GloVe is a popular pre-trained word embedding model\n",
        "##### developed by Stanford researchers beside word2vec which is developed by Google."
      ]
    },
    {
      "cell_type": "code",
      "execution_count": null,
      "id": "8fbd0ce1",
      "metadata": {
        "id": "8fbd0ce1",
        "outputId": "c3d94690-8e7e-44cd-c539-5e93e91ffb73"
      },
      "outputs": [
        {
          "data": {
            "text/plain": [
              "array([[-0.14597696,  0.1361471 ,  0.18691991, -0.10910395, -0.07315315],\n",
              "       [-0.01790982,  0.0618194 ,  0.11180216,  0.13758424, -0.11121514],\n",
              "       [ 0.14142664,  0.11776965,  0.14559953,  0.00290287,  0.12978655],\n",
              "       [-0.07436176, -0.00509885,  0.13138488, -0.1650735 , -0.0748052 ],\n",
              "       [-0.00925664, -0.14910614,  0.19595185,  0.09605802,  0.18770374],\n",
              "       [ 0.10618724,  0.17908505, -0.01815527, -0.19660029,  0.08986274],\n",
              "       [-0.03296937,  0.01227569, -0.07883085, -0.1589725 , -0.0278795 ],\n",
              "       [-0.09510726,  0.10271774, -0.12664409, -0.08216898,  0.1901261 ],\n",
              "       [-0.01391705,  0.01579934,  0.11061508,  0.17171778, -0.18390593],\n",
              "       [ 0.09786091, -0.17474627, -0.13887665,  0.0150852 ,  0.12959756],\n",
              "       [ 0.03488912,  0.12777813, -0.09134193, -0.06723398,  0.13752846],\n",
              "       [-0.04270607,  0.17438808, -0.10853925, -0.00965929, -0.09286656],\n",
              "       [ 0.14238298,  0.14634725,  0.1589761 , -0.08420958, -0.00850089],\n",
              "       [ 0.14214666, -0.01790195, -0.08066375,  0.11902257, -0.09633327],\n",
              "       [-0.04015088,  0.06587349,  0.02794639, -0.1745853 , -0.18710092],\n",
              "       [-0.01065486, -0.16185364, -0.10502117,  0.13793309,  0.07101958],\n",
              "       [-0.12351777,  0.02358925,  0.12221387, -0.05813397, -0.12297679],\n",
              "       [-0.15497912, -0.00728739,  0.1975412 , -0.15528764, -0.04491507],\n",
              "       [-0.19556338,  0.10286654, -0.17221636, -0.09114737,  0.00305434],\n",
              "       [ 0.00700085,  0.15995067, -0.00782189, -0.06216621, -0.17295226],\n",
              "       [-0.17695798,  0.07860677,  0.11012526,  0.11034696,  0.15257043],\n",
              "       [-0.16636114,  0.09659537, -0.07602476,  0.01051179,  0.17174794],\n",
              "       [ 0.04526257, -0.08335355,  0.17632951, -0.20248316,  0.13674805],\n",
              "       [ 0.04670231, -0.00707708,  0.11915742, -0.06508432,  0.04838425],\n",
              "       [ 0.03249639,  0.0043138 ,  0.06994664,  0.00388152,  0.1924641 ],\n",
              "       [ 0.05828834, -0.09865663,  0.08796374, -0.03479149,  0.13422768]],\n",
              "      dtype=float32)"
            ]
          },
          "execution_count": 134,
          "metadata": {},
          "output_type": "execute_result"
        }
      ],
      "source": [
        "model2.wv.vectors"
      ]
    },
    {
      "cell_type": "code",
      "execution_count": null,
      "id": "8b2ac5cd",
      "metadata": {
        "id": "8b2ac5cd"
      },
      "outputs": [],
      "source": [
        "#for i in model2.wv:\n",
        " #   print(i)"
      ]
    },
    {
      "cell_type": "code",
      "execution_count": null,
      "id": "281ab309",
      "metadata": {
        "id": "281ab309",
        "outputId": "d7468b18-817d-4c77-d5f2-c7073f57c8fc"
      },
      "outputs": [
        {
          "name": "stdout",
          "output_type": "stream",
          "text": [
            "[-0.14597696  0.1361471   0.18691991 -0.10910395 -0.07315315]\n",
            "[-0.01790982  0.0618194   0.11180216  0.13758424 -0.11121514]\n",
            "[0.14142664 0.11776965 0.14559953 0.00290287 0.12978655]\n",
            "[-0.07436176 -0.00509885  0.13138488 -0.1650735  -0.0748052 ]\n",
            "[-0.00925664 -0.14910614  0.19595185  0.09605802  0.18770374]\n",
            "[ 0.10618724  0.17908505 -0.01815527 -0.19660029  0.08986274]\n",
            "[-0.03296937  0.01227569 -0.07883085 -0.1589725  -0.0278795 ]\n",
            "[-0.09510726  0.10271774 -0.12664409 -0.08216898  0.1901261 ]\n",
            "[-0.01391705  0.01579934  0.11061508  0.17171778 -0.18390593]\n",
            "[ 0.09786091 -0.17474627 -0.13887665  0.0150852   0.12959756]\n",
            "[ 0.03488912  0.12777813 -0.09134193 -0.06723398  0.13752846]\n",
            "[-0.04270607  0.17438808 -0.10853925 -0.00965929 -0.09286656]\n",
            "[ 0.14238298  0.14634725  0.1589761  -0.08420958 -0.00850089]\n",
            "[ 0.14214666 -0.01790195 -0.08066375  0.11902257 -0.09633327]\n",
            "[-0.04015088  0.06587349  0.02794639 -0.1745853  -0.18710092]\n",
            "[-0.01065486 -0.16185364 -0.10502117  0.13793309  0.07101958]\n",
            "[-0.12351777  0.02358925  0.12221387 -0.05813397 -0.12297679]\n",
            "[-0.15497912 -0.00728739  0.1975412  -0.15528764 -0.04491507]\n",
            "[-0.19556338  0.10286654 -0.17221636 -0.09114737  0.00305434]\n",
            "[ 0.00700085  0.15995067 -0.00782189 -0.06216621 -0.17295226]\n",
            "[-0.17695798  0.07860677  0.11012526  0.11034696  0.15257043]\n",
            "[-0.16636114  0.09659537 -0.07602476  0.01051179  0.17174794]\n",
            "[ 0.04526257 -0.08335355  0.17632951 -0.20248316  0.13674805]\n",
            "[ 0.04670231 -0.00707708  0.11915742 -0.06508432  0.04838425]\n",
            "[0.03249639 0.0043138  0.06994664 0.00388152 0.1924641 ]\n",
            "[ 0.05828834 -0.09865663  0.08796374 -0.03479149  0.13422768]\n"
          ]
        }
      ],
      "source": [
        "for i in range(0,len(model2.wv)):\n",
        "    print(model2.wv[i])"
      ]
    },
    {
      "cell_type": "code",
      "execution_count": null,
      "id": "fa0a8df0",
      "metadata": {
        "id": "fa0a8df0",
        "outputId": "11d2eb43-4f60-4fb5-d60d-0148e8c31283"
      },
      "outputs": [
        {
          "data": {
            "text/plain": [
              "array([[-0.14597696,  0.1361471 ,  0.18691991, -0.10910395, -0.07315315],\n",
              "       [-0.01790982,  0.0618194 ,  0.11180216,  0.13758424, -0.11121514],\n",
              "       [ 0.14142664,  0.11776965,  0.14559953,  0.00290287,  0.12978655],\n",
              "       [-0.07436176, -0.00509885,  0.13138488, -0.1650735 , -0.0748052 ],\n",
              "       [-0.00925664, -0.14910614,  0.19595185,  0.09605802,  0.18770374],\n",
              "       [ 0.10618724,  0.17908505, -0.01815527, -0.19660029,  0.08986274],\n",
              "       [-0.03296937,  0.01227569, -0.07883085, -0.1589725 , -0.0278795 ],\n",
              "       [-0.09510726,  0.10271774, -0.12664409, -0.08216898,  0.1901261 ],\n",
              "       [-0.01391705,  0.01579934,  0.11061508,  0.17171778, -0.18390593],\n",
              "       [ 0.09786091, -0.17474627, -0.13887665,  0.0150852 ,  0.12959756],\n",
              "       [ 0.03488912,  0.12777813, -0.09134193, -0.06723398,  0.13752846],\n",
              "       [-0.04270607,  0.17438808, -0.10853925, -0.00965929, -0.09286656],\n",
              "       [ 0.14238298,  0.14634725,  0.1589761 , -0.08420958, -0.00850089],\n",
              "       [ 0.14214666, -0.01790195, -0.08066375,  0.11902257, -0.09633327],\n",
              "       [-0.04015088,  0.06587349,  0.02794639, -0.1745853 , -0.18710092],\n",
              "       [-0.01065486, -0.16185364, -0.10502117,  0.13793309,  0.07101958],\n",
              "       [-0.12351777,  0.02358925,  0.12221387, -0.05813397, -0.12297679],\n",
              "       [-0.15497912, -0.00728739,  0.1975412 , -0.15528764, -0.04491507],\n",
              "       [-0.19556338,  0.10286654, -0.17221636, -0.09114737,  0.00305434],\n",
              "       [ 0.00700085,  0.15995067, -0.00782189, -0.06216621, -0.17295226],\n",
              "       [-0.17695798,  0.07860677,  0.11012526,  0.11034696,  0.15257043],\n",
              "       [-0.16636114,  0.09659537, -0.07602476,  0.01051179,  0.17174794],\n",
              "       [ 0.04526257, -0.08335355,  0.17632951, -0.20248316,  0.13674805],\n",
              "       [ 0.04670231, -0.00707708,  0.11915742, -0.06508432,  0.04838425],\n",
              "       [ 0.03249639,  0.0043138 ,  0.06994664,  0.00388152,  0.1924641 ],\n",
              "       [ 0.05828834, -0.09865663,  0.08796374, -0.03479149,  0.13422768]],\n",
              "      dtype=float32)"
            ]
          },
          "execution_count": 83,
          "metadata": {},
          "output_type": "execute_result"
        }
      ],
      "source": [
        "model2.wv.vectors"
      ]
    },
    {
      "cell_type": "code",
      "execution_count": null,
      "id": "f350bba5",
      "metadata": {
        "id": "f350bba5"
      },
      "outputs": [],
      "source": [
        "#word_vectors = np.array([w for w in model2.wv])"
      ]
    },
    {
      "cell_type": "code",
      "execution_count": null,
      "id": "96a6fd5e",
      "metadata": {
        "id": "96a6fd5e"
      },
      "outputs": [],
      "source": [
        "#word_vectors"
      ]
    },
    {
      "cell_type": "code",
      "execution_count": null,
      "id": "aacb102b",
      "metadata": {
        "id": "aacb102b",
        "outputId": "ce83fb27-4269-4a47-c743-2c9659fa1d19"
      },
      "outputs": [
        {
          "data": {
            "text/plain": [
              "array([[-0.14597696,  0.1361471 ,  0.18691991, -0.10910395, -0.07315315],\n",
              "       [-0.01790982,  0.0618194 ,  0.11180216,  0.13758424, -0.11121514],\n",
              "       [ 0.14142664,  0.11776965,  0.14559953,  0.00290287,  0.12978655],\n",
              "       [-0.07436176, -0.00509885,  0.13138488, -0.1650735 , -0.0748052 ],\n",
              "       [-0.00925664, -0.14910614,  0.19595185,  0.09605802,  0.18770374],\n",
              "       [ 0.10618724,  0.17908505, -0.01815527, -0.19660029,  0.08986274],\n",
              "       [-0.03296937,  0.01227569, -0.07883085, -0.1589725 , -0.0278795 ],\n",
              "       [-0.09510726,  0.10271774, -0.12664409, -0.08216898,  0.1901261 ],\n",
              "       [-0.01391705,  0.01579934,  0.11061508,  0.17171778, -0.18390593],\n",
              "       [ 0.09786091, -0.17474627, -0.13887665,  0.0150852 ,  0.12959756],\n",
              "       [ 0.03488912,  0.12777813, -0.09134193, -0.06723398,  0.13752846],\n",
              "       [-0.04270607,  0.17438808, -0.10853925, -0.00965929, -0.09286656],\n",
              "       [ 0.14238298,  0.14634725,  0.1589761 , -0.08420958, -0.00850089],\n",
              "       [ 0.14214666, -0.01790195, -0.08066375,  0.11902257, -0.09633327],\n",
              "       [-0.04015088,  0.06587349,  0.02794639, -0.1745853 , -0.18710092],\n",
              "       [-0.01065486, -0.16185364, -0.10502117,  0.13793309,  0.07101958],\n",
              "       [-0.12351777,  0.02358925,  0.12221387, -0.05813397, -0.12297679],\n",
              "       [-0.15497912, -0.00728739,  0.1975412 , -0.15528764, -0.04491507],\n",
              "       [-0.19556338,  0.10286654, -0.17221636, -0.09114737,  0.00305434],\n",
              "       [ 0.00700085,  0.15995067, -0.00782189, -0.06216621, -0.17295226],\n",
              "       [-0.17695798,  0.07860677,  0.11012526,  0.11034696,  0.15257043],\n",
              "       [-0.16636114,  0.09659537, -0.07602476,  0.01051179,  0.17174794],\n",
              "       [ 0.04526257, -0.08335355,  0.17632951, -0.20248316,  0.13674805],\n",
              "       [ 0.04670231, -0.00707708,  0.11915742, -0.06508432,  0.04838425],\n",
              "       [ 0.03249639,  0.0043138 ,  0.06994664,  0.00388152,  0.1924641 ],\n",
              "       [ 0.05828834, -0.09865663,  0.08796374, -0.03479149,  0.13422768]],\n",
              "      dtype=float32)"
            ]
          },
          "execution_count": 137,
          "metadata": {},
          "output_type": "execute_result"
        }
      ],
      "source": [
        "#showing venctor\n",
        "model2.wv.vectors"
      ]
    },
    {
      "cell_type": "code",
      "execution_count": null,
      "id": "e5aa2417",
      "metadata": {
        "id": "e5aa2417"
      },
      "outputs": [],
      "source": [
        "import numpy as np\n",
        "import plotly\n",
        "import plotly.graph_objs as go"
      ]
    },
    {
      "cell_type": "markdown",
      "id": "35f7b590",
      "metadata": {
        "id": "35f7b590"
      },
      "source": [
        "### Read PCA here -\n",
        "\n",
        "##### https://guardiancoder.com/2022/08/13/unsupervisedml/"
      ]
    },
    {
      "cell_type": "code",
      "execution_count": null,
      "id": "374c16ca",
      "metadata": {
        "id": "374c16ca"
      },
      "outputs": [],
      "source": [
        "#Tranforming 5 dimension array into 2 dimensional array by using principle component analysis\n",
        "from sklearn.decomposition import PCA,FastICA"
      ]
    },
    {
      "cell_type": "code",
      "execution_count": null,
      "id": "cc55a625",
      "metadata": {
        "id": "cc55a625",
        "outputId": "d121918a-adb7-4412-eabc-2f018eaef926"
      },
      "outputs": [
        {
          "data": {
            "text/plain": [
              "array([[-0.19963078, -0.08671951],\n",
              "       [-0.07107665, -0.09138605],\n",
              "       [ 0.08048195, -0.09323416],\n",
              "       [-0.12909694, -0.08688854],\n",
              "       [ 0.23149006, -0.20498982],\n",
              "       [-0.02683756,  0.10001446],\n",
              "       [-0.05536411,  0.10970995],\n",
              "       [ 0.0903299 ,  0.20604753],\n",
              "       [-0.09430149, -0.11628368],\n",
              "       [ 0.25029325,  0.080897  ],\n",
              "       [ 0.0696997 ,  0.15379658],\n",
              "       [-0.12770739,  0.16902375],\n",
              "       [-0.07023692, -0.1008677 ],\n",
              "       [ 0.04009787,  0.03782754],\n",
              "       [-0.22677211,  0.01588007],\n",
              "       [ 0.20726874,  0.05306529],\n",
              "       [-0.155     , -0.07696163],\n",
              "       [-0.13198508, -0.13362356],\n",
              "       [-0.07554894,  0.2473072 ],\n",
              "       [-0.20408487,  0.06114336],\n",
              "       [ 0.0780407 , -0.0303064 ],\n",
              "       [ 0.08375894,  0.1576017 ],\n",
              "       [ 0.08065502, -0.1486082 ],\n",
              "       [ 0.0320992 , -0.09438787],\n",
              "       [ 0.16562949, -0.03627602],\n",
              "       [ 0.15779802, -0.09178124]], dtype=float32)"
            ]
          },
          "execution_count": 141,
          "metadata": {},
          "output_type": "execute_result"
        }
      ],
      "source": [
        "xt = PCA(n_components=2, random_state=0).fit_transform(model2.wv.vectors)\n",
        "\n",
        "xt"
      ]
    },
    {
      "cell_type": "code",
      "execution_count": null,
      "id": "89b4337b",
      "metadata": {
        "id": "89b4337b",
        "outputId": "29a13ba8-2b28-480c-be63-d45bd320b8b6"
      },
      "outputs": [
        {
          "data": {
            "image/png": "[encoded data removed]",
            "text/plain": [
              "<Figure size 640x480 with 1 Axes>"
            ]
          },
          "metadata": {},
          "output_type": "display_data"
        }
      ],
      "source": [
        "import matplotlib.pyplot as plt\n",
        "\n",
        "plot = plt.scatter(xt[:,0], xt[:,1])#, c=y)\n",
        "\n",
        "\n",
        "plt.show()"
      ]
    },
    {
      "cell_type": "code",
      "execution_count": null,
      "id": "41e43527",
      "metadata": {
        "id": "41e43527",
        "outputId": "0f4055fb-eb80-49f1-a9cf-0f7ca6c7b949"
      },
      "outputs": [
        {
          "data": {
            "text/plain": [
              "['india',\n",
              " 'must',\n",
              " 'world',\n",
              " 'us',\n",
              " 'nation',\n",
              " 'vision',\n",
              " 'freedom',\n",
              " 'respect',\n",
              " 'three',\n",
              " 'see',\n",
              " 'one',\n",
              " 'minds',\n",
              " 'worked',\n",
              " 'years',\n",
              " 'history',\n",
              " 'power',\n",
              " 'strength',\n",
              " 'conquered',\n",
              " 'yet',\n",
              " 'believe',\n",
              " 'developed',\n",
              " 'life',\n",
              " 'great',\n",
              " 'first',\n",
              " '’',\n",
              " 'dr.']"
            ]
          },
          "execution_count": 146,
          "metadata": {},
          "output_type": "execute_result"
        }
      ],
      "source": [
        "model2.wv.index_to_key"
      ]
    },
    {
      "cell_type": "code",
      "execution_count": null,
      "id": "3dcc2ee6",
      "metadata": {
        "id": "3dcc2ee6",
        "outputId": "f9a6f6bf-ba11-47fb-afa6-7532466e8da3"
      },
      "outputs": [
        {
          "data": {
            "image/png": "[encoded data removed]",
            "text/plain": [
              "<Figure size 2000x2000 with 1 Axes>"
            ]
          },
          "metadata": {},
          "output_type": "display_data"
        }
      ],
      "source": [
        "import matplotlib.pyplot as plt\n",
        "\n",
        "plt.figure(figsize=(20,20))\n",
        "\n",
        "x=xt[:,0]\n",
        "y=xt[:,1]\n",
        "n=model2.wv.index_to_key\n",
        "\n",
        "\n",
        "#fig, ax = plt.subplots()\n",
        "plt.scatter(x, y)\n",
        "\n",
        "\n",
        "#plt.legend(handles=plot.legend_elements()[0], labels=model2.wv.index_to_key)\n",
        "for i, txt in enumerate(n):\n",
        "    plt.annotate(txt, (x[i], y[i]))\n",
        "\n",
        "\n",
        "plt.show()"
      ]
    },
    {
      "cell_type": "code",
      "execution_count": null,
      "id": "4e452074",
      "metadata": {
        "id": "4e452074",
        "outputId": "09d7a5e3-7caf-425d-ef6d-e44c1314f3f6"
      },
      "outputs": [
        {
          "name": "stdout",
          "output_type": "stream",
          "text": [
            "(0, 'india')\n",
            "(1, 'must')\n",
            "(2, 'world')\n",
            "(3, 'us')\n",
            "(4, 'nation')\n",
            "(5, 'vision')\n",
            "(6, 'freedom')\n",
            "(7, 'respect')\n",
            "(8, 'three')\n",
            "(9, 'see')\n",
            "(10, 'one')\n",
            "(11, 'minds')\n",
            "(12, 'worked')\n",
            "(13, 'years')\n",
            "(14, 'history')\n",
            "(15, 'power')\n",
            "(16, 'strength')\n",
            "(17, 'conquered')\n",
            "(18, 'yet')\n",
            "(19, 'believe')\n",
            "(20, 'developed')\n",
            "(21, 'life')\n",
            "(22, 'great')\n",
            "(23, 'first')\n",
            "(24, '’')\n",
            "(25, 'dr.')\n"
          ]
        }
      ],
      "source": [
        "for i in enumerate(model2.wv.index_to_key):\n",
        "    print(i)"
      ]
    }
  ],
  "metadata": {
    "kernelspec": {
      "display_name": "Python 3 (ipykernel)",
      "language": "python",
      "name": "python3"
    },
    "language_info": {
      "codemirror_mode": {
        "name": "ipython",
        "version": 3
      },
      "file_extension": ".py",
      "mimetype": "text/x-python",
      "name": "python",
      "nbconvert_exporter": "python",
      "pygments_lexer": "ipython3",
      "version": "3.9.19"
    },
    "colab": {
      "provenance": []
    }
  },
  "nbformat": 4,
  "nbformat_minor": 5
}