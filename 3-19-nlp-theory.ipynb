{
 "cells": [
  {
   "cell_type": "markdown",
   "id": "e02d7f96",
   "metadata": {},
   "source": [
    "### Language Basics\n",
    "\n",
    "# liguistics\n"
   ]
  },
  {
   "cell_type": "markdown",
   "id": "40242cdb",
   "metadata": {},
   "source": [
    "##### https://algoscale.com/blog/a-guide-to-the-5-nlp-phases/\n",
    "    \n",
    "1. Lexical or Morphological Analysis\n",
    "2. Syntax Analysis or Parsing\n",
    "3. Semantic Analysis\n",
    "4. Discourse Integration (Reference analysis)\n",
    "5. Pragmatic Analysis\n"
   ]
  },
  {
   "cell_type": "markdown",
   "id": "78295f37",
   "metadata": {},
   "source": [
    "# ------------------------------------------------------------------------------------------------"
   ]
  },
  {
   "cell_type": "markdown",
   "id": "c989fae2",
   "metadata": {},
   "source": [
    "# NLP Basics"
   ]
  },
  {
   "cell_type": "markdown",
   "id": "a562046f",
   "metadata": {},
   "source": [
    "#### Applications and Use cases: \n",
    "\n",
    "Speech Recognition vs Voice Recognition\n",
    "\n",
    "Tokenization \n",
    "\n",
    "Language detection \n",
    "\n",
    "Named Entity Recognition \n",
    "\n",
    "Part of Speech Tagging \n",
    "\n",
    "Sentiment Analysis \n",
    "\n",
    "Word Embeddings \n",
    "\n",
    "Morphological analysis \n",
    "\n",
    "Transliteration "
   ]
  },
  {
   "cell_type": "markdown",
   "id": "d69b233f",
   "metadata": {},
   "source": [
    "https://www.nltk.org/index.html#\n",
    "    \n",
    "https://spacy.io/\n",
    "        \n",
    "https://radimrehurek.com/gensim/"
   ]
  }
 ],
 "metadata": {
  "kernelspec": {
   "display_name": "Python 3 (ipykernel)",
   "language": "python",
   "name": "python3"
  },
  "language_info": {
   "codemirror_mode": {
    "name": "ipython",
    "version": 3
   },
   "file_extension": ".py",
   "mimetype": "text/x-python",
   "name": "python",
   "nbconvert_exporter": "python",
   "pygments_lexer": "ipython3",
   "version": "3.9.7"
  }
 },
 "nbformat": 4,
 "nbformat_minor": 5
}
